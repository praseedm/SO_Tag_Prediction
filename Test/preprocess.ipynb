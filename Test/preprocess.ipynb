{
 "cells": [
  {
   "cell_type": "code",
   "execution_count": 11,
   "metadata": {},
   "outputs": [],
   "source": [
    "import pandas as pd\n",
    "import matplotlib.pyplot as plt\n",
    "import sqlite3\n",
    "from sqlalchemy import create_engine\n",
    "\n",
    "import os\n",
    "import csv\n",
    "import re\n",
    "from datetime import datetime\n",
    "\n",
    "from nltk.tokenize import word_tokenize\n",
    "from nltk.corpus import stopwords\n",
    "from nltk.stem.snowball import SnowballStemmer"
   ]
  },
  {
   "cell_type": "code",
   "execution_count": 8,
   "metadata": {},
   "outputs": [],
   "source": [
    "loc = '/data1/SO_predict_DATA/'\n",
    "db_file = 'test.db'\n",
    "r_db_name = db_file\n",
    "w_db_name = 'C_test.db'"
   ]
  },
  {
   "cell_type": "code",
   "execution_count": 3,
   "metadata": {},
   "outputs": [],
   "source": [
    "t = pd.read_csv(loc+'Test.csv', nrows = 5)"
   ]
  },
  {
   "cell_type": "code",
   "execution_count": 4,
   "metadata": {},
   "outputs": [
    {
     "data": {
      "text/html": [
       "<div>\n",
       "<style scoped>\n",
       "    .dataframe tbody tr th:only-of-type {\n",
       "        vertical-align: middle;\n",
       "    }\n",
       "\n",
       "    .dataframe tbody tr th {\n",
       "        vertical-align: top;\n",
       "    }\n",
       "\n",
       "    .dataframe thead th {\n",
       "        text-align: right;\n",
       "    }\n",
       "</style>\n",
       "<table border=\"1\" class=\"dataframe\">\n",
       "  <thead>\n",
       "    <tr style=\"text-align: right;\">\n",
       "      <th></th>\n",
       "      <th>Id</th>\n",
       "      <th>Title</th>\n",
       "      <th>Body</th>\n",
       "    </tr>\n",
       "  </thead>\n",
       "  <tbody>\n",
       "    <tr>\n",
       "      <th>0</th>\n",
       "      <td>6034196</td>\n",
       "      <td>Getting rid of site-specific hotkeys</td>\n",
       "      <td>&lt;p&gt;How do I disable site-specific hotkeys if (...</td>\n",
       "    </tr>\n",
       "    <tr>\n",
       "      <th>1</th>\n",
       "      <td>6034197</td>\n",
       "      <td>Nodes inside Cisco VPN. Incoming SSH requests ...</td>\n",
       "      <td>&lt;p&gt;I've a gateway-to-gateway VPN setup between...</td>\n",
       "    </tr>\n",
       "    <tr>\n",
       "      <th>2</th>\n",
       "      <td>6034198</td>\n",
       "      <td>Remove old vCenter servers from VMWare vSphere...</td>\n",
       "      <td>&lt;p&gt;After changing our vCenter servers recently...</td>\n",
       "    </tr>\n",
       "    <tr>\n",
       "      <th>3</th>\n",
       "      <td>6034199</td>\n",
       "      <td>Replace &lt;span&gt; element with var containing html</td>\n",
       "      <td>&lt;p&gt;I have a variable i lifted the contents of,...</td>\n",
       "    </tr>\n",
       "    <tr>\n",
       "      <th>4</th>\n",
       "      <td>6034200</td>\n",
       "      <td>Will PHP included html content affect my seo?</td>\n",
       "      <td>&lt;p&gt;Today i purchase a small CMS system. With t...</td>\n",
       "    </tr>\n",
       "  </tbody>\n",
       "</table>\n",
       "</div>"
      ],
      "text/plain": [
       "        Id                                              Title  \\\n",
       "0  6034196               Getting rid of site-specific hotkeys   \n",
       "1  6034197  Nodes inside Cisco VPN. Incoming SSH requests ...   \n",
       "2  6034198  Remove old vCenter servers from VMWare vSphere...   \n",
       "3  6034199    Replace <span> element with var containing html   \n",
       "4  6034200      Will PHP included html content affect my seo?   \n",
       "\n",
       "                                                Body  \n",
       "0  <p>How do I disable site-specific hotkeys if (...  \n",
       "1  <p>I've a gateway-to-gateway VPN setup between...  \n",
       "2  <p>After changing our vCenter servers recently...  \n",
       "3  <p>I have a variable i lifted the contents of,...  \n",
       "4  <p>Today i purchase a small CMS system. With t...  "
      ]
     },
     "execution_count": 4,
     "metadata": {},
     "output_type": "execute_result"
    }
   ],
   "source": [
    "t"
   ]
  },
  {
   "cell_type": "code",
   "execution_count": 6,
   "metadata": {},
   "outputs": [
    {
     "name": "stdout",
     "output_type": "stream",
     "text": [
      "180000 rows\n",
      "360000 rows\n",
      "540000 rows\n",
      "720000 rows\n",
      "900000 rows\n",
      "1080000 rows\n",
      "1260000 rows\n",
      "1440000 rows\n",
      "1620000 rows\n",
      "1800000 rows\n",
      "1980000 rows\n",
      "2160000 rows\n",
      "Time taken : 0:01:13.533024\n"
     ]
    }
   ],
   "source": [
    "if not os.path.isfile(loc+db_name):\n",
    "    start = datetime.now()\n",
    "    disk_engine = create_engine('sqlite:///'+loc+db_name)\n",
    "    #start = dt.datetime.now()\n",
    "    chunksize = 180000\n",
    "    j = 0\n",
    "    index_start = 1\n",
    "    for df in pd.read_csv(loc+'Test.csv', names=['Id', 'Title', 'Body'], chunksize=chunksize, iterator=True, encoding='utf-8', ):\n",
    "        df.index += index_start\n",
    "        j+=1\n",
    "        print('{} rows'.format(j*chunksize))\n",
    "        df.to_sql('data', disk_engine, if_exists='append')\n",
    "        index_start = df.index[-1] + 1\n",
    "    print(\"Time taken :\", datetime.now() - start)\n",
    "else:\n",
    "    print(\"Already Exists\")"
   ]
  },
  {
   "cell_type": "code",
   "execution_count": 7,
   "metadata": {},
   "outputs": [
    {
     "name": "stdout",
     "output_type": "stream",
     "text": [
      "connctn sucess\n",
      "Tables in the databse:\n",
      "clean_test\n"
     ]
    }
   ],
   "source": [
    "#http://www.sqlitetutorial.net/sqlite-python/create-tables/\n",
    "def create_connection(db_file):\n",
    "    \"\"\" create a database connection to the SQLite database\n",
    "        specified by db_file\n",
    "    :param db_file: database file\n",
    "    :return: Connection object or None\n",
    "    \"\"\"\n",
    "    try:\n",
    "        conn = sqlite3.connect(loc+db_file)\n",
    "        return conn\n",
    "    except sqlite3.Error as e:\n",
    "        print(e)\n",
    " \n",
    "    return None\n",
    "\n",
    "def create_table(conn, create_table_sql):\n",
    "    \"\"\" create a table from the create_table_sql statement\n",
    "    :param conn: Connection object\n",
    "    :param create_table_sql: a CREATE TABLE statement\n",
    "    :return:\n",
    "    \"\"\"\n",
    "    try:\n",
    "        c = conn.cursor()\n",
    "        c.execute(create_table_sql)\n",
    "    except sqlite3.Error as e:\n",
    "        print(e)\n",
    "        \n",
    "def checkTableExists(dbcon):\n",
    "    cursr = dbcon.cursor()\n",
    "    str = \"select name from sqlite_master where type='table'\"\n",
    "    table_names = cursr.execute(str)\n",
    "    print(\"Tables in the databse:\")\n",
    "    tables =table_names.fetchall() \n",
    "    print(tables[0][0])\n",
    "    return(len(tables))\n",
    "\n",
    "def create_database_table(database, query):\n",
    "    conn = create_connection('/'+database)\n",
    "    if conn is not None:\n",
    "        print(\"connctn sucess\")\n",
    "        create_table(conn, query)\n",
    "        checkTableExists(conn)\n",
    "    else:\n",
    "        print(\"Error! cannot create the database connection.\")\n",
    "    conn.close()\n",
    "\n",
    "sql_create_table = \"\"\"CREATE TABLE IF NOT EXISTS clean_test (title text NOT NULL,body text NOT NULL, code text, words_pre integer, words_post integer, is_code integer);\"\"\"\n",
    "create_database_table(\"C_test.db\", sql_create_table)"
   ]
  },
  {
   "cell_type": "code",
   "execution_count": 13,
   "metadata": {},
   "outputs": [
    {
     "name": "stdout",
     "output_type": "stream",
     "text": [
      "Tables in the databse:\n",
      "clean_test\n",
      "Cleared All the rows\n",
      "Time taken to run this cell : 0:00:00.002996\n"
     ]
    }
   ],
   "source": [
    "# Don't Run cleans DB\n",
    "\n",
    "start = datetime.now()\n",
    "read_db = r_db_name\n",
    "write_db = w_db_name\n",
    "if os.path.isfile(loc+read_db):\n",
    "    conn_r = create_connection(read_db)\n",
    "    if conn_r is not None:\n",
    "        reader =conn_r.cursor()\n",
    "        reader.execute(\"SELECT Title, Body From data\")\n",
    "\n",
    "if os.path.isfile(loc+write_db):\n",
    "    conn_w = create_connection(write_db)\n",
    "    if conn_w is not None:\n",
    "        tables = checkTableExists(conn_w)\n",
    "        writer =conn_w.cursor()\n",
    "        if tables != 0:\n",
    "            writer.execute(\"DELETE FROM clean_test WHERE 1\")\n",
    "            print(\"Cleared All the rows\")\n",
    "print(\"Time taken to run this cell :\", datetime.now() - start)"
   ]
  },
  {
   "cell_type": "markdown",
   "metadata": {},
   "source": [
    "## ----------------- Preprocess ------------------------------"
   ]
  },
  {
   "cell_type": "code",
   "execution_count": 14,
   "metadata": {},
   "outputs": [],
   "source": [
    "def striphtml(data):\n",
    "    cleanr = re.compile('<.*?>')\n",
    "    cleantext = re.sub(cleanr, ' ', str(data))\n",
    "    return cleantext\n",
    "stop_words = set(stopwords.words('english'))\n",
    "stemmer = SnowballStemmer(\"english\")"
   ]
  },
  {
   "cell_type": "code",
   "execution_count": 15,
   "metadata": {},
   "outputs": [
    {
     "name": "stdout",
     "output_type": "stream",
     "text": [
      "number of questions completed= 100000\n",
      "number of questions completed= 200000\n",
      "number of questions completed= 300000\n",
      "number of questions completed= 400000\n",
      "number of questions completed= 500000\n",
      "number of questions completed= 600000\n",
      "number of questions completed= 700000\n",
      "number of questions completed= 800000\n",
      "number of questions completed= 900000\n",
      "number of questions completed= 1000000\n",
      "number of questions completed= 1100000\n",
      "number of questions completed= 1200000\n",
      "number of questions completed= 1300000\n",
      "number of questions completed= 1400000\n",
      "number of questions completed= 1500000\n",
      "number of questions completed= 1600000\n",
      "number of questions completed= 1700000\n",
      "number of questions completed= 1800000\n",
      "number of questions completed= 1900000\n",
      "number of questions completed= 2000000\n",
      "Avg. length of questions(Title+Body) before processing: 1148\n",
      "Avg. length of questions(Title+Body) after processing: 336\n",
      "Percent of questions containing code: 56\n",
      "Time taken to run this cell : 1:08:15.763964\n"
     ]
    }
   ],
   "source": [
    "#http://www.bernzilla.com/2008/05/13/selecting-a-random-row-from-an-sqlite-table/\n",
    "\n",
    "start = datetime.now()\n",
    "preprocessed_data_list=[]\n",
    "reader.fetchone()\n",
    "questions_with_code=0\n",
    "len_pre=0\n",
    "len_post=0\n",
    "questions_proccesed = 0\n",
    "\n",
    "for row in reader:\n",
    "    is_code = 0\n",
    "\n",
    "    title, question = row[0], row[1]\n",
    "\n",
    "    if '<code>' in question:\n",
    "        questions_with_code+=1\n",
    "        is_code = 1\n",
    "    x = len(question)+len(title)\n",
    "    len_pre+=x\n",
    "    \n",
    "    title=title.encode('utf-8')\n",
    "    question = question.encode('utf-8')\n",
    "    title=str(title)\n",
    "    question=str(question)\n",
    "    \n",
    "\n",
    "    code = str(re.findall(r'<code>(.*?)</code>', question, flags=re.DOTALL))\n",
    "\n",
    "    question=re.sub('<code>(.*?)</code>', '', question, flags=re.MULTILINE|re.DOTALL)\n",
    "    question=striphtml(question)#.encode('utf-8'))\n",
    "\n",
    "    #title=title.encode('utf-8')\n",
    "\n",
    "   # question=str(title)+\" \"+str(question)\n",
    "   # question=re.sub(r'[^A-Za-z]+',' ',question)\n",
    "    title = re.sub(r'[^A-Za-z0-9#+.\\-]+',' ',title)\n",
    "    question = re.sub(r'[^A-Za-z0-9#+.\\-]+',' ',question)\n",
    "    words=word_tokenize(str(question.lower()))\n",
    "\n",
    "    #Removing all single letter and and stopwords from question exceptt for the letter 'c'\n",
    "    question=' '.join(str(stemmer.stem(j)) for j in words if j not in stop_words and (len(j)!=1 or j=='c'))\n",
    "    \n",
    "    #same for title\n",
    "    \n",
    "    words=word_tokenize(str(title.lower()))\n",
    "\n",
    "    #Removing all single letter and and stopwords from question exceptt for the letter 'c'\n",
    "    title=' '.join(str(stemmer.stem(j)) for j in words if j not in stop_words and (len(j)!=1 or j=='c'))\n",
    "\n",
    "    len_post+=len(question)+len(title)\n",
    "    tup = (title,question,code,x,len(question)+len(title),is_code)\n",
    "    questions_proccesed += 1\n",
    "    writer.execute(\"insert into clean_test(title,body,code,words_pre,words_post,is_code) values (?,?,?,?,?,?)\",tup)\n",
    "    if (questions_proccesed%100000==0):\n",
    "        print(\"number of questions completed=\",questions_proccesed)\n",
    "\n",
    "no_dup_avg_len_pre=(len_pre*1.0)/questions_proccesed\n",
    "no_dup_avg_len_post=(len_post*1.0)/questions_proccesed\n",
    "\n",
    "print( \"Avg. length of questions(Title+Body) before processing: %d\"%no_dup_avg_len_pre)\n",
    "print( \"Avg. length of questions(Title+Body) after processing: %d\"%no_dup_avg_len_post)\n",
    "print (\"Percent of questions containing code: %d\"%((questions_with_code*100.0)/questions_proccesed))\n",
    "\n",
    "print(\"Time taken to run this cell :\", datetime.now() - start)\n",
    "\n",
    "conn_r.commit()\n",
    "conn_w.commit()\n",
    "conn_r.close()\n",
    "conn_w.close()"
   ]
  },
  {
   "cell_type": "code",
   "execution_count": 10,
   "metadata": {},
   "outputs": [],
   "source": [
    "# conn_r.commit()\n",
    "# conn_w.commit()\n",
    "# conn_r.close()\n",
    "# conn_w.close()"
   ]
  },
  {
   "cell_type": "code",
   "execution_count": null,
   "metadata": {},
   "outputs": [],
   "source": []
  }
 ],
 "metadata": {
  "kernelspec": {
   "display_name": "Python 3",
   "language": "python",
   "name": "python3"
  },
  "language_info": {
   "codemirror_mode": {
    "name": "ipython",
    "version": 3
   },
   "file_extension": ".py",
   "mimetype": "text/x-python",
   "name": "python",
   "nbconvert_exporter": "python",
   "pygments_lexer": "ipython3",
   "version": "3.5.2"
  }
 },
 "nbformat": 4,
 "nbformat_minor": 2
}

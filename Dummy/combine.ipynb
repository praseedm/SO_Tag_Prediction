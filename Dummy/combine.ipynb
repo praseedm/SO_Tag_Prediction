{
 "cells": [
  {
   "cell_type": "code",
   "execution_count": 21,
   "metadata": {},
   "outputs": [],
   "source": [
    "from sklearn.externals import joblib ## model persistance\n",
    "from sklearn import metrics\n",
    "import pandas as pd"
   ]
  },
  {
   "cell_type": "code",
   "execution_count": 4,
   "metadata": {},
   "outputs": [],
   "source": [
    "pkloc = '/home/master/Data/dummy/'\n",
    "reploc = pkloc\n",
    "loc = ''\n",
    "db_name = 'random_train.db'"
   ]
  },
  {
   "cell_type": "code",
   "execution_count": 17,
   "metadata": {},
   "outputs": [],
   "source": [
    "def save_report(msg,di):               # create csv file with header\n",
    "    rep = \"\\n\"+msg+\" :\\n\\t\"+str(di)\n",
    "    fp = open(reploc+'report.txt','a')\n",
    "    fp.write(rep)\n",
    "    fp.close()"
   ]
  },
  {
   "cell_type": "code",
   "execution_count": 7,
   "metadata": {},
   "outputs": [],
   "source": [
    "y_test = joblib.load(pkloc+'y_test.pkl')"
   ]
  },
  {
   "cell_type": "code",
   "execution_count": 15,
   "metadata": {},
   "outputs": [],
   "source": [
    "tag_data = joblib.load(pkloc+'tag_data.pkl')"
   ]
  },
  {
   "cell_type": "code",
   "execution_count": 12,
   "metadata": {},
   "outputs": [],
   "source": [
    "from sklearn.feature_extraction.text import CountVectorizer"
   ]
  },
  {
   "cell_type": "code",
   "execution_count": 13,
   "metadata": {},
   "outputs": [],
   "source": [
    "vectorizer_tag = CountVectorizer(tokenizer = lambda x: x.split(), binary='true',min_df = 5)  # min_df - document frequency strictly lower than the given threshold"
   ]
  },
  {
   "cell_type": "code",
   "execution_count": 16,
   "metadata": {},
   "outputs": [
    {
     "data": {
      "text/plain": [
       "<9708x939 sparse matrix of type '<class 'numpy.int64'>'\n",
       "\twith 20972 stored elements in Compressed Sparse Row format>"
      ]
     },
     "execution_count": 16,
     "metadata": {},
     "output_type": "execute_result"
    }
   ],
   "source": [
    "vectorizer_tag.fit_transform(tag_data)"
   ]
  },
  {
   "cell_type": "code",
   "execution_count": 22,
   "metadata": {},
   "outputs": [
    {
     "data": {
      "text/html": [
       "<div>\n",
       "<style scoped>\n",
       "    .dataframe tbody tr th:only-of-type {\n",
       "        vertical-align: middle;\n",
       "    }\n",
       "\n",
       "    .dataframe tbody tr th {\n",
       "        vertical-align: top;\n",
       "    }\n",
       "\n",
       "    .dataframe thead th {\n",
       "        text-align: right;\n",
       "    }\n",
       "</style>\n",
       "<table border=\"1\" class=\"dataframe\">\n",
       "  <thead>\n",
       "    <tr style=\"text-align: right;\">\n",
       "      <th></th>\n",
       "      <th>Actual</th>\n",
       "      <th>Pred_by_Title</th>\n",
       "      <th>pred_by_body</th>\n",
       "      <th>pred_by_ques</th>\n",
       "      <th>pred_by_OR</th>\n",
       "    </tr>\n",
       "  </thead>\n",
       "  <tbody>\n",
       "    <tr>\n",
       "      <th>0</th>\n",
       "      <td>response list web-services</td>\n",
       "      <td>web-services</td>\n",
       "      <td>web-services</td>\n",
       "      <td>web-services</td>\n",
       "      <td>web-services</td>\n",
       "    </tr>\n",
       "    <tr>\n",
       "      <th>1</th>\n",
       "      <td>json-encode ajax php</td>\n",
       "      <td>php</td>\n",
       "      <td>ajax php</td>\n",
       "      <td>ajax php</td>\n",
       "      <td>ajax php</td>\n",
       "    </tr>\n",
       "    <tr>\n",
       "      <th>2</th>\n",
       "      <td>upgrade windows-7</td>\n",
       "      <td>windows-7</td>\n",
       "      <td>windows windows-7</td>\n",
       "      <td>windows windows-7</td>\n",
       "      <td>windows windows-7</td>\n",
       "    </tr>\n",
       "    <tr>\n",
       "      <th>3</th>\n",
       "      <td>prime-numbers</td>\n",
       "      <td>NaN</td>\n",
       "      <td>NaN</td>\n",
       "      <td>NaN</td>\n",
       "      <td>NaN</td>\n",
       "    </tr>\n",
       "    <tr>\n",
       "      <th>4</th>\n",
       "      <td>django database python</td>\n",
       "      <td>django python</td>\n",
       "      <td>django</td>\n",
       "      <td>django</td>\n",
       "      <td>django python</td>\n",
       "    </tr>\n",
       "  </tbody>\n",
       "</table>\n",
       "</div>"
      ],
      "text/plain": [
       "                       Actual  Pred_by_Title       pred_by_body  \\\n",
       "0  response list web-services   web-services       web-services   \n",
       "1        json-encode ajax php            php           ajax php   \n",
       "2           upgrade windows-7      windows-7  windows windows-7   \n",
       "3               prime-numbers            NaN                NaN   \n",
       "4      django database python  django python             django   \n",
       "\n",
       "        pred_by_ques         pred_by_OR  \n",
       "0       web-services       web-services  \n",
       "1           ajax php           ajax php  \n",
       "2  windows windows-7  windows windows-7  \n",
       "3                NaN                NaN  \n",
       "4             django      django python  "
      ]
     },
     "execution_count": 22,
     "metadata": {},
     "output_type": "execute_result"
    }
   ],
   "source": [
    "r = pd.read_csv('01_rep_mindf_03.csv')\n",
    "r.head()"
   ]
  },
  {
   "cell_type": "markdown",
   "metadata": {},
   "source": [
    "### SGDC"
   ]
  },
  {
   "cell_type": "code",
   "execution_count": 8,
   "metadata": {},
   "outputs": [
    {
     "name": "stdout",
     "output_type": "stream",
     "text": [
      "From title accuracy : 0.12770339855818744\n",
      "From title micro f1 scoore : 0.4026455879980642\n"
     ]
    }
   ],
   "source": [
    "title_x_test_multilabel = joblib.load(pkloc+'title_xtest_multilabel.pkl')\n",
    "\n",
    "title_sgc = joblib.load(pkloc+'title_sgdc.pkl')\n",
    "\n",
    "pred_title = title_sgc.predict(title_x_test_multilabel)\n",
    "\n",
    "print(\"From title accuracy :\",metrics.accuracy_score(y_test,pred_title))\n",
    "print(\"From title micro f1 scoore :\",metrics.f1_score(y_test, pred_title, average = 'micro'))"
   ]
  },
  {
   "cell_type": "code",
   "execution_count": 10,
   "metadata": {},
   "outputs": [
    {
     "name": "stdout",
     "output_type": "stream",
     "text": [
      "From body accuracy : 0.09629248197734294\n",
      "From body micro f1 scoore : 0.3264808362369338\n"
     ]
    }
   ],
   "source": [
    "body_x_test_multilabel = joblib.load(pkloc+'body_xtest_multilabel.pkl')\n",
    "\n",
    "body_sgc = joblib.load(pkloc+'body_sgdc.pkl')\n",
    "\n",
    "pred_body = body_sgc.predict(body_x_test_multilabel)\n",
    "\n",
    "print(\"From body accuracy :\",metrics.accuracy_score(y_test,pred_body))\n",
    "print(\"From body micro f1 scoore :\",metrics.f1_score(y_test, pred_body, average = 'micro'))"
   ]
  },
  {
   "cell_type": "code",
   "execution_count": 18,
   "metadata": {},
   "outputs": [],
   "source": [
    "p_or = pred_title.todense() | pred_body.todense()"
   ]
  },
  {
   "cell_type": "code",
   "execution_count": 19,
   "metadata": {},
   "outputs": [
    {
     "name": "stdout",
     "output_type": "stream",
     "text": [
      "{'Time_taken': 'add', 'accuracy': 0.131307929969104, 'micro_f1_scoore': 0.4649772209567198}\n"
     ]
    }
   ],
   "source": [
    "rep_di = dict()\n",
    "rep_di[\"Time_taken\"] = str(\"add\")\n",
    "rep_di[\"accuracy\"] = metrics.accuracy_score(y_test,p_or)\n",
    "rep_di[\"micro_f1_scoore\"] = metrics.f1_score(y_test, p_or, average = 'micro')\n",
    "print(str(rep_di))"
   ]
  },
  {
   "cell_type": "code",
   "execution_count": 23,
   "metadata": {},
   "outputs": [],
   "source": [
    "save_report(\"SGDC OR\",rep_di)"
   ]
  },
  {
   "cell_type": "code",
   "execution_count": null,
   "metadata": {},
   "outputs": [],
   "source": []
  }
 ],
 "metadata": {
  "kernelspec": {
   "display_name": "Python 3",
   "language": "python",
   "name": "python3"
  },
  "language_info": {
   "codemirror_mode": {
    "name": "ipython",
    "version": 3
   },
   "file_extension": ".py",
   "mimetype": "text/x-python",
   "name": "python",
   "nbconvert_exporter": "python",
   "pygments_lexer": "ipython3",
   "version": "3.6.6"
  }
 },
 "nbformat": 4,
 "nbformat_minor": 2
}

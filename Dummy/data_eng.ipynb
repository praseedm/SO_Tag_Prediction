{
 "cells": [
  {
   "cell_type": "code",
   "execution_count": 6,
   "metadata": {},
   "outputs": [],
   "source": [
    "import pandas as pd\n",
    "import matplotlib.pyplot as plt\n",
    "import sqlite3\n",
    "from sqlalchemy import create_engine"
   ]
  },
  {
   "cell_type": "code",
   "execution_count": 2,
   "metadata": {},
   "outputs": [],
   "source": [
    "loc = '/data1/SO_predict_DATA'\n",
    "c_db = '/Processed.db' "
   ]
  },
  {
   "cell_type": "code",
   "execution_count": null,
   "metadata": {},
   "outputs": [],
   "source": [
    "tag_df = pd.read_csv(\"tag_counts_dict_dtm.csv\")\n",
    "tag_df.head()"
   ]
  },
  {
   "cell_type": "code",
   "execution_count": null,
   "metadata": {},
   "outputs": [],
   "source": [
    "tag_df.shape"
   ]
  },
  {
   "cell_type": "code",
   "execution_count": null,
   "metadata": {},
   "outputs": [],
   "source": [
    "tag_df_sorted = tag_df.sort_values(['Counts'], ascending=False)\n",
    "tag_counts = tag_df_sorted['Counts'].values"
   ]
  },
  {
   "cell_type": "code",
   "execution_count": null,
   "metadata": {},
   "outputs": [],
   "source": [
    "tag_df_sorted.head()"
   ]
  },
  {
   "cell_type": "code",
   "execution_count": null,
   "metadata": {},
   "outputs": [],
   "source": [
    "print(tag_df_sorted['Counts'].describe())"
   ]
  },
  {
   "cell_type": "code",
   "execution_count": null,
   "metadata": {},
   "outputs": [],
   "source": [
    "tag_df_sorted[tag_df_sorted['Counts'] > 66].count()"
   ]
  },
  {
   "cell_type": "code",
   "execution_count": null,
   "metadata": {},
   "outputs": [],
   "source": [
    "plt.plot(tag_counts)\n",
    "plt.title(\"Distribution of number of times tag appeared questions\")\n",
    "plt.grid()\n",
    "plt.xlabel(\"Tag number\")\n",
    "plt.ylabel(\"Number of times tag appeared\")\n",
    "plt.show()"
   ]
  },
  {
   "cell_type": "code",
   "execution_count": 3,
   "metadata": {},
   "outputs": [],
   "source": [
    "def create_connection(db_file):\n",
    "    \"\"\" create a database connection to the SQLite database\n",
    "        specified by db_file\n",
    "    :param db_file: database file\n",
    "    :return: Connection object or None\n",
    "    \"\"\"\n",
    "    try:\n",
    "        conn = sqlite3.connect(loc+db_file)\n",
    "        return conn\n",
    "    except sqlite3.Error as e:\n",
    "        print(e)\n",
    " \n",
    "    return None"
   ]
  },
  {
   "cell_type": "code",
   "execution_count": null,
   "metadata": {},
   "outputs": [],
   "source": [
    "tag_df_sorted.Tags.to_csv('hai',index = None)\n"
   ]
  },
  {
   "cell_type": "code",
   "execution_count": null,
   "metadata": {},
   "outputs": [],
   "source": [
    "con  = create_connection('/train_no_dup.db')\n",
    "if con is not None:\n",
    "    ran_data = pd.read_sql_query(\"SELECT Title, Body, Tags From no_dup_train ORDER BY RANDOM() LIMIT 10000;\",con)\n",
    "    print(type(ran_data))\n",
    "else:\n",
    "    print(\"Connection Error\")"
   ]
  },
  {
   "cell_type": "code",
   "execution_count": null,
   "metadata": {},
   "outputs": [],
   "source": [
    "disk_engine = create_engine('sqlite:///'+loc+'/random_train.db')\n",
    "ran_data.to_sql('data',disk_engine)"
   ]
  },
  {
   "cell_type": "code",
   "execution_count": null,
   "metadata": {},
   "outputs": [],
   "source": [
    "con = no_dup_con = create_connection('/random_train.db')\n",
    "if con is not None:\n",
    "    ran_data2 = pd.read_sql_query(\"SELECT Title, Body, Tags From data;\",con)\n",
    "    print(type(ran_data))\n",
    "else:\n",
    "    print(\"Connection Error\")"
   ]
  },
  {
   "cell_type": "code",
   "execution_count": null,
   "metadata": {},
   "outputs": [],
   "source": [
    "ran_data2.shape"
   ]
  },
  {
   "cell_type": "code",
   "execution_count": null,
   "metadata": {},
   "outputs": [],
   "source": [
    " # ---- from c_db"
   ]
  },
  {
   "cell_type": "code",
   "execution_count": 4,
   "metadata": {},
   "outputs": [
    {
     "name": "stdout",
     "output_type": "stream",
     "text": [
      "<class 'pandas.core.frame.DataFrame'>\n"
     ]
    }
   ],
   "source": [
    "con  = create_connection(c_db)\n",
    "if con is not None:\n",
    "    ran_data = pd.read_sql_query(\"SELECT * From clean_train ORDER BY RANDOM() LIMIT 10000;\",con)\n",
    "    print(type(ran_data))\n",
    "else:\n",
    "    print(\"Connection Error\")"
   ]
  },
  {
   "cell_type": "code",
   "execution_count": 5,
   "metadata": {},
   "outputs": [],
   "source": [
    "disk_engine = create_engine('sqlite:///'+loc+'/c_random_train.db')\n",
    "ran_data.to_sql('clean_train',disk_engine)"
   ]
  },
  {
   "cell_type": "code",
   "execution_count": 17,
   "metadata": {},
   "outputs": [],
   "source": [
    "r = disk_engine.execute(\"SELECT * FROM clean_train LIMIT 1,3\")"
   ]
  },
  {
   "cell_type": "code",
   "execution_count": 18,
   "metadata": {},
   "outputs": [
    {
     "data": {
      "text/plain": [
       "[(1, 'access field struct', 'follow code produc output', \"['static void Main(string[] args)\\\\\\\\n{\\\\\\\\n    FieldInfo[] fi = typeof(MyStruct).GetFields(BindingFlags.Public);\\\\\\\\n    foreach (FieldInfo info in  ... (177 characters truncated) ... three;\\\\\\\\n    public int four;\\\\\\\\n    public int five;\\\\\\\\n    public int six;\\\\\\\\n    public bool seven;\\\\\\\\n    public String eight;\\\\\\\\n}\\\\\\\\n']\", 'c# reflection', 503, 44, 1),\n",
       " (2, 'foreach loop extra filter need identifi last entri', 'tri get last entri foreach loop struggl far biggest problem insid foreach loop need filter array elimin everi author post code far anyon shed light get last entri scenario thank', '[\"$authors = get_users(\\'orderby=nicename\\');\\\\\\\\n\\\\\\\\n\\\\\\\\nforeach ($authors as $author ) {\\\\\\\\n      if ( count_user_posts( $author-&gt;id ) &gt;= 1 ) { IF LAST {special &lt;li&gt;} else {normal &lt;li&gt; }\\\\\\\\n\"]', 'php foreach', 601, 227, 1),\n",
       " (3, 'ifram app integr fanpag', 'problem custom welcom page integr fanpag upload custom html css imag server hostgat root directori main domain server site fanpag creati fanpag welcom tab show entir site rather custom welcom page problem defin canva url page tab url pleas ni sever problem issu need help bad', '[]', 'facebook iframe', 534, 298, 0)]"
      ]
     },
     "execution_count": 18,
     "metadata": {},
     "output_type": "execute_result"
    }
   ],
   "source": [
    "r.fetchall()\n"
   ]
  },
  {
   "cell_type": "code",
   "execution_count": null,
   "metadata": {},
   "outputs": [],
   "source": []
  }
 ],
 "metadata": {
  "kernelspec": {
   "display_name": "Python 3",
   "language": "python",
   "name": "python3"
  },
  "language_info": {
   "codemirror_mode": {
    "name": "ipython",
    "version": 3
   },
   "file_extension": ".py",
   "mimetype": "text/x-python",
   "name": "python",
   "nbconvert_exporter": "python",
   "pygments_lexer": "ipython3",
   "version": "3.5.2"
  }
 },
 "nbformat": 4,
 "nbformat_minor": 2
}

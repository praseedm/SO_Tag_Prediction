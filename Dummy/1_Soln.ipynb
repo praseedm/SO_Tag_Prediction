{
 "cells": [
  {
   "cell_type": "code",
   "execution_count": 1,
   "metadata": {},
   "outputs": [],
   "source": [
    "import pandas as pd\n",
    "import matplotlib.pyplot as plt\n",
    "import sqlite3\n",
    "from sqlalchemy import create_engine\n",
    "\n",
    "import os\n",
    "import csv\n",
    "from datetime import datetime"
   ]
  },
  {
   "cell_type": "code",
   "execution_count": 2,
   "metadata": {},
   "outputs": [],
   "source": [
    "from sklearn.externals import joblib ## model persistance"
   ]
  },
  {
   "cell_type": "code",
   "execution_count": 71,
   "metadata": {},
   "outputs": [],
   "source": [
    "pkloc = '/home/master/Data/dummy/'\n",
    "reploc = pkloc\n",
    "loc = ''\n",
    "db_name = 'random_train.db'"
   ]
  },
  {
   "cell_type": "markdown",
   "metadata": {},
   "source": [
    "###  # create report.csv file with header (Time_taken) * rest adds auto"
   ]
  },
  {
   "cell_type": "code",
   "execution_count": 146,
   "metadata": {},
   "outputs": [],
   "source": [
    "def save_report(msg,di):               # create csv file with header\n",
    "    rep = \"\\n\"+msg+\" :\\n\\t\"+str(di)\n",
    "    fp = open(reploc+'report.txt','a')\n",
    "    fp.write(rep)\n",
    "    fp.close()\n",
    "\n",
    "def save_report_csv(msg,di):               # create csv file with header\n",
    "    cn = pd.read_csv(reploc+'report.csv')\n",
    "    for k,v in di.items():\n",
    "        cn.loc[msg,k] = v\n",
    "    #cn.to_csv(reploc+'report.csv')\n",
    "    return cn\n",
    "    \n",
    "\n",
    "def create_connection(db_file):\n",
    "    \"\"\" create a database connection to the SQLite database\n",
    "        specified by db_file\n",
    "    :param db_file: database file\n",
    "    :return: Connection object or None\n",
    "    \"\"\"\n",
    "    try:\n",
    "        conn = sqlite3.connect(loc+db_file)\n",
    "        return conn\n",
    "    except sqlite3.Error as e:\n",
    "        print(e)\n",
    " \n",
    "    return None"
   ]
  },
  {
   "cell_type": "code",
   "execution_count": 5,
   "metadata": {},
   "outputs": [],
   "source": [
    "con = create_connection(db_name)"
   ]
  },
  {
   "cell_type": "code",
   "execution_count": 19,
   "metadata": {},
   "outputs": [],
   "source": [
    "tag_rm = list( pd.read_csv('tag_to_remove.csv')['Tags'] )\n",
    "t = [str(i) for i in tag_rm]\n",
    "li_string = \"('\"+ \"','\".join(t) +\"')\" # li_string = '(\"'+ '\",\"'.join(t) +'\")' #  ' vs \""
   ]
  },
  {
   "cell_type": "code",
   "execution_count": 20,
   "metadata": {},
   "outputs": [],
   "source": [
    "if con is not None:\n",
    "    tag_data = pd.read_sql('SELECT Tags FROM data WHERE Tags NOT IN '+li_string,con)\n",
    "else :\n",
    "    print('Conn error')"
   ]
  },
  {
   "cell_type": "code",
   "execution_count": 21,
   "metadata": {},
   "outputs": [
    {
     "name": "stdout",
     "output_type": "stream",
     "text": [
      "                                                Tags\n",
      "0             iphone objective-c ios uiview uibutton\n",
      "1                    svg internet-explorer-9 raphael\n",
      "2  validation spring-mvc internationalization cus...\n",
      "3                             windows java copy text\n",
      "4                                  javascript jquery\n",
      "Shape (9708, 1)\n"
     ]
    }
   ],
   "source": [
    "print(tag_data.head())\n",
    "print('Shape',tag_data.shape)"
   ]
  },
  {
   "cell_type": "code",
   "execution_count": 208,
   "metadata": {},
   "outputs": [],
   "source": [
    "if con is not None:\n",
    "    t_data = pd.read_sql('SELECT Title FROM data WHERE Tags NOT IN '+li_string,con)\n",
    "else :\n",
    "    print('Conn error')\n"
   ]
  },
  {
   "cell_type": "code",
   "execution_count": 209,
   "metadata": {},
   "outputs": [
    {
     "name": "stdout",
     "output_type": "stream",
     "text": [
      "                                               Title\n",
      "0       One tap triggering events on multiple views?\n",
      "1  IE9 text positioning bug when zoomed in with R...\n",
      "2  Spring MVC custom errors and internationalization\n",
      "3                How to copy text from Java program?\n",
      "4  How to scroll to a part of the page using jQuery?\n",
      "Shape (9708, 1)\n"
     ]
    }
   ],
   "source": [
    "print(t_data.head())\n",
    "print('Shape',t_data.shape)"
   ]
  },
  {
   "cell_type": "markdown",
   "metadata": {},
   "source": [
    "## Preprocess title Data"
   ]
  },
  {
   "cell_type": "code",
   "execution_count": 210,
   "metadata": {},
   "outputs": [],
   "source": [
    "from nltk.tokenize import word_tokenize  \n",
    "from nltk.corpus import stopwords\n",
    "from nltk.stem.snowball import SnowballStemmer\n",
    "stop_words = set(stopwords.words('english'))\n",
    "stemmer = SnowballStemmer(\"english\")\n",
    "# https://stackoverflow.com/questions/35345761/python-re-split-vs-nltk-word-tokenize-and-sent-tokenize"
   ]
  },
  {
   "cell_type": "code",
   "execution_count": 211,
   "metadata": {},
   "outputs": [],
   "source": [
    "import re\n",
    "\n",
    "#t_data.head()\n",
    "#t_data.Title = t_data.Title.apply(lambda x : x.encode('utf-8'))\n",
    "t_data.Title = t_data.Title.apply(lambda x : str.lower(str(x)))\n",
    "t_data.Title = t_data.Title.apply(lambda x : re.sub(r'[^A-Za-z0-9#+.\\-]+',' ',x))\n",
    "#title_data = t_data\n"
   ]
  },
  {
   "cell_type": "code",
   "execution_count": 212,
   "metadata": {},
   "outputs": [],
   "source": [
    "def fn(sen):\n",
    "    return ' '.join(str(stemmer.stem(w)) for w in word_tokenize(sen) if w not in stop_words and (len(w)!=1 or w=='c'))\n",
    "\n",
    "t_data.Title = t_data.Title.apply(lambda x : fn(x))#' '.join for w in word_tokenize(x) if w not in stop_words)\n"
   ]
  },
  {
   "cell_type": "code",
   "execution_count": 215,
   "metadata": {},
   "outputs": [
    {
     "data": {
      "text/plain": [
       "0     one tap trigger event multipl view\n",
       "1    ie9 text posit bug zoom raphael svg\n",
       "2    spring mvc custom error internation\n",
       "3                 copi text java program\n",
       "4            scroll part page use jqueri\n",
       "Name: Title, dtype: object"
      ]
     },
     "execution_count": 215,
     "metadata": {},
     "output_type": "execute_result"
    }
   ],
   "source": [
    "t_data.Title[:5]"
   ]
  },
  {
   "cell_type": "code",
   "execution_count": 216,
   "metadata": {},
   "outputs": [],
   "source": [
    "title_data = t_data"
   ]
  },
  {
   "cell_type": "markdown",
   "metadata": {},
   "source": [
    "### ----- Body"
   ]
  },
  {
   "cell_type": "code",
   "execution_count": 175,
   "metadata": {},
   "outputs": [],
   "source": [
    "if con is not None:\n",
    "    b_data = pd.read_sql('SELECT Body FROM data  WHERE Tags NOT IN '+li_string,con)\n",
    "else :\n",
    "    print('Conn error')"
   ]
  },
  {
   "cell_type": "code",
   "execution_count": 176,
   "metadata": {},
   "outputs": [
    {
     "name": "stdout",
     "output_type": "stream",
     "text": [
      "                                                Body\n",
      "0  <p>In my program I have placed a <code>UIButto...\n",
      "1  <p>I'm not sure if this is a bug with Raphael ...\n",
      "2  <p>In my web application, I handle errors with...\n",
      "3  <p>I am using a Java program called <a href=\"h...\n",
      "4  <p>My code scrolls the user to the bottom of t...\n",
      "Shape (9708, 1)\n"
     ]
    }
   ],
   "source": [
    "print(b_data[:5])\n",
    "print('Shape',b_data.shape)"
   ]
  },
  {
   "cell_type": "code",
   "execution_count": 177,
   "metadata": {},
   "outputs": [],
   "source": [
    "b_data.Body = b_data.Body.apply(lambda x : x.encode('utf-8'))\n",
    "b_data.Body = b_data.Body.apply(lambda x : str.lower(str(x)))\n",
    "b_data.Body = b_data.Body.apply(lambda x : re.sub(r'<code>(.*?)</code>',' ',x))\n",
    "b_data.Body = b_data.Body.apply(lambda x : re.sub(r'<.*?>',' ',x))\n",
    "b_data.Body = b_data.Body.apply(lambda x : re.sub(r'[^A-Za-z0-9#+.\\-]+',' ',x))\n",
    "\n",
    "b_data.Body = b_data.Body.apply(lambda x : fn(x))"
   ]
  },
  {
   "cell_type": "code",
   "execution_count": 178,
   "metadata": {},
   "outputs": [
    {
     "data": {
      "text/html": [
       "<div>\n",
       "<style scoped>\n",
       "    .dataframe tbody tr th:only-of-type {\n",
       "        vertical-align: middle;\n",
       "    }\n",
       "\n",
       "    .dataframe tbody tr th {\n",
       "        vertical-align: top;\n",
       "    }\n",
       "\n",
       "    .dataframe thead th {\n",
       "        text-align: right;\n",
       "    }\n",
       "</style>\n",
       "<table border=\"1\" class=\"dataframe\">\n",
       "  <thead>\n",
       "    <tr style=\"text-align: right;\">\n",
       "      <th></th>\n",
       "      <th>Body</th>\n",
       "    </tr>\n",
       "  </thead>\n",
       "  <tbody>\n",
       "    <tr>\n",
       "      <th>0</th>\n",
       "      <td>program place subview set button tap event cal...</td>\n",
       "    </tr>\n",
       "    <tr>\n",
       "      <th>1</th>\n",
       "      <td>sure bug raphael svg anyon fix workaround woul...</td>\n",
       "    </tr>\n",
       "    <tr>\n",
       "      <th>2</th>\n",
       "      <td>web applic handl error annot everyth work fine...</td>\n",
       "    </tr>\n",
       "    <tr>\n",
       "      <th>3</th>\n",
       "      <td>use java program call jdownload v0.9.581 wish ...</td>\n",
       "    </tr>\n",
       "    <tr>\n",
       "      <th>4</th>\n",
       "      <td>code scroll user bottom page modifi take user ...</td>\n",
       "    </tr>\n",
       "  </tbody>\n",
       "</table>\n",
       "</div>"
      ],
      "text/plain": [
       "                                                Body\n",
       "0  program place subview set button tap event cal...\n",
       "1  sure bug raphael svg anyon fix workaround woul...\n",
       "2  web applic handl error annot everyth work fine...\n",
       "3  use java program call jdownload v0.9.581 wish ...\n",
       "4  code scroll user bottom page modifi take user ..."
      ]
     },
     "execution_count": 178,
     "metadata": {},
     "output_type": "execute_result"
    }
   ],
   "source": [
    "b_data[:5]"
   ]
  },
  {
   "cell_type": "code",
   "execution_count": 179,
   "metadata": {},
   "outputs": [],
   "source": [
    "title_data = b_data"
   ]
  },
  {
   "cell_type": "markdown",
   "metadata": {},
   "source": [
    "## ---------------- title+body = ques"
   ]
  },
  {
   "cell_type": "code",
   "execution_count": 38,
   "metadata": {},
   "outputs": [
    {
     "data": {
      "text/plain": [
       "(9805, 1)"
      ]
     },
     "execution_count": 38,
     "metadata": {},
     "output_type": "execute_result"
    }
   ],
   "source": [
    "b_data.shape"
   ]
  },
  {
   "cell_type": "code",
   "execution_count": 39,
   "metadata": {},
   "outputs": [
    {
     "data": {
      "text/plain": [
       "(9805, 1)"
      ]
     },
     "execution_count": 39,
     "metadata": {},
     "output_type": "execute_result"
    }
   ],
   "source": [
    "t_data.shape"
   ]
  },
  {
   "cell_type": "code",
   "execution_count": 40,
   "metadata": {},
   "outputs": [
    {
     "data": {
      "text/plain": [
       "(9805, 1)"
      ]
     },
     "execution_count": 40,
     "metadata": {},
     "output_type": "execute_result"
    }
   ],
   "source": [
    "title_data = pd.DataFrame()\n",
    "title_data['ques'] = t_data.Title + b_data.Body\n",
    "title_data.shape"
   ]
  },
  {
   "cell_type": "markdown",
   "metadata": {},
   "source": [
    "### --------------------------------------"
   ]
  },
  {
   "cell_type": "code",
   "execution_count": 202,
   "metadata": {},
   "outputs": [],
   "source": [
    "from sklearn.feature_extraction.text import CountVectorizer"
   ]
  },
  {
   "cell_type": "code",
   "execution_count": 203,
   "metadata": {},
   "outputs": [],
   "source": [
    "vectorizer_tag = CountVectorizer(tokenizer = lambda x: x.split(), binary='true',min_df = 5)  # min_df - document frequency strictly lower than the given threshold"
   ]
  },
  {
   "cell_type": "code",
   "execution_count": 204,
   "metadata": {},
   "outputs": [],
   "source": [
    "multi_lab_y = vectorizer_tag.fit_transform(tag_data.Tags)"
   ]
  },
  {
   "cell_type": "code",
   "execution_count": 205,
   "metadata": {},
   "outputs": [
    {
     "data": {
      "text/plain": [
       "CountVectorizer(analyzer='word', binary='true', decode_error='strict',\n",
       "        dtype=<class 'numpy.int64'>, encoding='utf-8', input='content',\n",
       "        lowercase=True, max_df=1.0, max_features=None, min_df=5,\n",
       "        ngram_range=(1, 1), preprocessor=None, stop_words=None,\n",
       "        strip_accents=None, token_pattern='(?u)\\\\b\\\\w\\\\w+\\\\b',\n",
       "        tokenizer=<function <lambda> at 0x7fea70553ae8>, vocabulary=None)"
      ]
     },
     "execution_count": 205,
     "metadata": {},
     "output_type": "execute_result"
    }
   ],
   "source": [
    "vectorizer_tag"
   ]
  },
  {
   "cell_type": "code",
   "execution_count": 207,
   "metadata": {},
   "outputs": [
    {
     "data": {
      "text/plain": [
       "['/home/master/Data/dummy/tag_data.pkl']"
      ]
     },
     "execution_count": 207,
     "metadata": {},
     "output_type": "execute_result"
    }
   ],
   "source": [
    "joblib.dump(tag_data.Tags,pkloc+'tag_data.pkl')"
   ]
  },
  {
   "cell_type": "code",
   "execution_count": 48,
   "metadata": {},
   "outputs": [
    {
     "name": "stdout",
     "output_type": "stream",
     "text": [
      "Number of data points : 9708\n",
      "Number of unique tags : 939\n"
     ]
    }
   ],
   "source": [
    "print(\"Number of data points :\", multi_lab_y.shape[0])\n",
    "print(\"Number of unique tags :\", multi_lab_y.shape[1])"
   ]
  },
  {
   "cell_type": "code",
   "execution_count": 144,
   "metadata": {},
   "outputs": [],
   "source": [
    "#vectorizer_tag.get_feature_names()"
   ]
  },
  {
   "cell_type": "code",
   "execution_count": 145,
   "metadata": {},
   "outputs": [],
   "source": [
    "## choose first n tags (desc order of count)\n",
    "\n",
    "def tags_to_choose(n):\n",
    "    t = multilabel_y.sum(axis=0).tolist()[0]\n",
    "    sorted_tags_i = sorted(range(len(t)), key=lambda i: t[i], reverse=True)\n",
    "    multilabel_yn = multilabel_y[:,sorted_tags_i[:n]]\n",
    "    return multilabel_yn"
   ]
  },
  {
   "cell_type": "markdown",
   "metadata": {},
   "source": [
    "<h2>4.2 Split the data into test and train (80:20) </h2>"
   ]
  },
  {
   "cell_type": "code",
   "execution_count": 217,
   "metadata": {},
   "outputs": [
    {
     "name": "stdout",
     "output_type": "stream",
     "text": [
      "9708 7766\n"
     ]
    }
   ],
   "source": [
    "tot_size = title_data.shape[0]\n",
    "train_size = int(tot_size * 0.8)\n",
    "print(tot_size,train_size)"
   ]
  },
  {
   "cell_type": "code",
   "execution_count": 218,
   "metadata": {},
   "outputs": [],
   "source": [
    "x_train=title_data.head(train_size)\n",
    "x_test=title_data.tail(tot_size - train_size)\n",
    "\n",
    "y_train = multi_lab_y[0:train_size,:]\n",
    "y_test = multi_lab_y[train_size:tot_size,:]"
   ]
  },
  {
   "cell_type": "code",
   "execution_count": 200,
   "metadata": {},
   "outputs": [
    {
     "data": {
      "text/plain": [
       "['/home/master/Data/dummy/y_test.pkl']"
      ]
     },
     "execution_count": 200,
     "metadata": {},
     "output_type": "execute_result"
    }
   ],
   "source": [
    "# joblib.dump(y_test,pkloc+'y_test.pkl')"
   ]
  },
  {
   "cell_type": "markdown",
   "metadata": {},
   "source": [
    "## @ Model Testing"
   ]
  },
  {
   "cell_type": "code",
   "execution_count": 219,
   "metadata": {},
   "outputs": [],
   "source": [
    "import warnings\n",
    "warnings.filterwarnings(\"ignore\")\n",
    "from sklearn.feature_extraction.text import TfidfVectorizer\n",
    "from sklearn.multiclass import OneVsRestClassifier\n",
    "from sklearn.linear_model import SGDClassifier\n",
    "\n",
    "from sklearn import svm\n",
    "from sklearn.linear_model import LogisticRegression\n",
    "from sklearn.discriminant_analysis import LinearDiscriminantAnalysis as LDA\n",
    "from sklearn.svm import LinearSVC\n",
    "\n",
    "from sklearn import metrics\n",
    "from sklearn.metrics import f1_score,precision_score,recall_score"
   ]
  },
  {
   "cell_type": "code",
   "execution_count": 220,
   "metadata": {},
   "outputs": [],
   "source": [
    "vectorizer = TfidfVectorizer(min_df=0.00009, max_features=200000, smooth_idf=True, norm=\"l2\", \\\n",
    "                             tokenizer = lambda x: x.split(), sublinear_tf=False, ngram_range=(1,3))"
   ]
  },
  {
   "cell_type": "code",
   "execution_count": 221,
   "metadata": {},
   "outputs": [
    {
     "name": "stdout",
     "output_type": "stream",
     "text": [
      "Time taken to run this cell : 0:00:00.420396\n"
     ]
    }
   ],
   "source": [
    "start = datetime.now()\n",
    "x_train_multilabel = vectorizer.fit_transform(x_train.Title)     ## replace column name appropiately\n",
    "x_test_multilabel = vectorizer.transform(x_test.Title)\n",
    "print(\"Time taken to run this cell :\", datetime.now() - start)"
   ]
  },
  {
   "cell_type": "code",
   "execution_count": 222,
   "metadata": {},
   "outputs": [
    {
     "name": "stdout",
     "output_type": "stream",
     "text": [
      "Dimensions of train data X: (7766, 64691) Y : (7766, 939)\n",
      "Dimensions of test data X: (1942, 64691) Y: (1942, 939)\n"
     ]
    }
   ],
   "source": [
    "print(\"Dimensions of train data X:\",x_train_multilabel.shape, \"Y :\",y_train.shape)\n",
    "print(\"Dimensions of test data X:\",x_test_multilabel.shape,\"Y:\",y_test.shape)"
   ]
  },
  {
   "cell_type": "code",
   "execution_count": 187,
   "metadata": {},
   "outputs": [
    {
     "data": {
      "text/plain": [
       "['/home/master/Data/dummy/body_xtest_multilabel.pkl']"
      ]
     },
     "execution_count": 187,
     "metadata": {},
     "output_type": "execute_result"
    }
   ],
   "source": [
    "joblib.dump(x_test_multilabel,pkloc+'body_xtest_multilabel.pkl')"
   ]
  },
  {
   "cell_type": "markdown",
   "metadata": {},
   "source": [
    "### SGDC with OnevsRest"
   ]
  },
  {
   "cell_type": "code",
   "execution_count": 223,
   "metadata": {},
   "outputs": [],
   "source": [
    "start = datetime.now()\n",
    "\n",
    "classifier = OneVsRestClassifier(SGDClassifier(loss='hinge', alpha=0.00001, penalty='l1'), n_jobs=-1)\n",
    "classifier.fit(x_train_multilabel, y_train)\n",
    "predictions = classifier.predict(x_test_multilabel)\n",
    "\n",
    "time_t = datetime.now() - start\n",
    "#print(\"macro f1 score :\",metrics.f1_score(y_test, predictions, average = 'macro'))\n",
    "#print(\"micro f1 scoore :\",metrics.f1_score(y_test, predictions, average = 'micro'))\n",
    "#print(\"hamming loss :\",metrics.hamming_loss(y_test,predictions))\n",
    "#print(\"Precision recall report :\\n\",metrics.classification_report(y_test, predictions))\n"
   ]
  },
  {
   "cell_type": "code",
   "execution_count": 224,
   "metadata": {},
   "outputs": [
    {
     "name": "stdout",
     "output_type": "stream",
     "text": [
      "{'Time_taken': '0:00:33.137024', 'accuracy': 0.12203913491246138, 'micro_f1_scoore': 0.4145579506404249}\n"
     ]
    }
   ],
   "source": [
    "rep_di = dict()\n",
    "rep_di[\"Time_taken\"] = str(time_t)\n",
    "rep_di[\"accuracy\"] = metrics.accuracy_score(y_test,predictions)\n",
    "rep_di[\"micro_f1_scoore\"] = metrics.f1_score(y_test, predictions, average = 'micro')\n",
    "print(str(rep_di))"
   ]
  },
  {
   "cell_type": "code",
   "execution_count": 225,
   "metadata": {},
   "outputs": [],
   "source": [
    "save_report(\"SGDC with OnevsRest - hinge\",rep_di)"
   ]
  },
  {
   "cell_type": "code",
   "execution_count": 226,
   "metadata": {},
   "outputs": [
    {
     "data": {
      "text/plain": [
       "['/home/master/Data/dummy/title_sgdc_hinge.pkl']"
      ]
     },
     "execution_count": 226,
     "metadata": {},
     "output_type": "execute_result"
    }
   ],
   "source": [
    "joblib.dump(classifier,pkloc+'title_sgdc_hinge.pkl')"
   ]
  },
  {
   "cell_type": "markdown",
   "metadata": {},
   "source": [
    "### Logistic with OnevsRest"
   ]
  },
  {
   "cell_type": "code",
   "execution_count": 192,
   "metadata": {},
   "outputs": [],
   "source": [
    "start = datetime.now()\n",
    "\n",
    "classifier2 = OneVsRestClassifier(LogisticRegression(penalty='l1'), n_jobs=-1)\n",
    "classifier2.fit(x_train_multilabel, y_train)\n",
    "predictions2 = classifier2.predict(x_test_multilabel)\n",
    "\n",
    "time_t = datetime.now() - start"
   ]
  },
  {
   "cell_type": "code",
   "execution_count": 193,
   "metadata": {},
   "outputs": [
    {
     "name": "stdout",
     "output_type": "stream",
     "text": [
      "{'Time_taken': '0:03:08.959775', 'accuracy': 0.08496395468589084, 'micro_f1_scoore': 0.2856091277143909}\n"
     ]
    }
   ],
   "source": [
    "\n",
    "rep_di = dict()\n",
    "rep_di[\"Time_taken\"] = str(time_t)\n",
    "rep_di[\"accuracy\"] = metrics.accuracy_score(y_test,predictions2)\n",
    "rep_di[\"micro_f1_scoore\"] = metrics.f1_score(y_test, predictions2, average = 'micro')\n",
    "print(str(rep_di))"
   ]
  },
  {
   "cell_type": "code",
   "execution_count": 194,
   "metadata": {},
   "outputs": [],
   "source": [
    "save_report(\"Logistic with OnevsRest\",rep_di)"
   ]
  },
  {
   "cell_type": "code",
   "execution_count": 195,
   "metadata": {},
   "outputs": [
    {
     "data": {
      "text/plain": [
       "['/home/master/Data/dummy/body_logistic.pkl']"
      ]
     },
     "execution_count": 195,
     "metadata": {},
     "output_type": "execute_result"
    }
   ],
   "source": [
    "joblib.dump(classifier2,pkloc+'body_logistic.pkl')"
   ]
  },
  {
   "cell_type": "markdown",
   "metadata": {},
   "source": [
    "## LDA  -- TIME"
   ]
  },
  {
   "cell_type": "code",
   "execution_count": 204,
   "metadata": {},
   "outputs": [
    {
     "name": "stdout",
     "output_type": "stream",
     "text": [
      "<class 'scipy.sparse.csr.csr_matrix'>\n",
      "<class 'numpy.matrixlib.defmatrix.matrix'>\n"
     ]
    }
   ],
   "source": [
    "y_train3 =y_train.todense()\n",
    "y_test3 = y_test.todense()\n",
    "\n",
    "print type(y_train)\n",
    "print type(x_train_multilabel.todense())"
   ]
  },
  {
   "cell_type": "code",
   "execution_count": null,
   "metadata": {},
   "outputs": [],
   "source": [
    "start = datetime.now()\n",
    "\n",
    "#classifier3 = OneVsRestClassifier(LDA())\n",
    "#classifier3.fit(x_train_multilabel.todense(), y_train)\n",
    "#predictions3 = classifier3.predict(x_test_multilabel)\n",
    "\n",
    "#print(\"Time taken to run this cell :\", datetime.now() - start)\n",
    "#print(\"accuracy :\",metrics.accuracy_score(y_test,predictions3))"
   ]
  },
  {
   "cell_type": "markdown",
   "metadata": {},
   "source": [
    "## SVC"
   ]
  },
  {
   "cell_type": "code",
   "execution_count": 152,
   "metadata": {},
   "outputs": [],
   "source": [
    "start = datetime.now()\n",
    "\n",
    "classifier4 = OneVsRestClassifier(LinearSVC())\n",
    "classifier4.fit(x_train_multilabel, y_train)\n",
    "predictions4 = classifier4.predict(x_test_multilabel)\n",
    "\n",
    "time_t = datetime.now() - start\n"
   ]
  },
  {
   "cell_type": "code",
   "execution_count": 153,
   "metadata": {},
   "outputs": [
    {
     "name": "stdout",
     "output_type": "stream",
     "text": [
      "{'Time_taken': '0:00:16.396039', 'accuracy': 0.10710607621009269, 'micro_f1_scoore': 0.3978883861236802}\n"
     ]
    }
   ],
   "source": [
    "\n",
    "rep_di = dict()\n",
    "rep_di[\"Time_taken\"] = str(time_t)\n",
    "rep_di[\"accuracy\"] = metrics.accuracy_score(y_test,predictions2)\n",
    "rep_di[\"micro_f1_scoore\"] = metrics.f1_score(y_test, predictions2, average = 'micro')\n",
    "print(str(rep_di))"
   ]
  },
  {
   "cell_type": "code",
   "execution_count": 154,
   "metadata": {},
   "outputs": [],
   "source": [
    "save_report(\"SVC\",rep_di)"
   ]
  },
  {
   "cell_type": "code",
   "execution_count": 155,
   "metadata": {},
   "outputs": [
    {
     "data": {
      "text/plain": [
       "['/home/master/Data/dummy/title_svc.pkl']"
      ]
     },
     "execution_count": 155,
     "metadata": {},
     "output_type": "execute_result"
    }
   ],
   "source": [
    "joblib.dump(classifier4,pkloc+'title_svc.pkl')"
   ]
  },
  {
   "cell_type": "code",
   "execution_count": null,
   "metadata": {},
   "outputs": [],
   "source": []
  },
  {
   "cell_type": "code",
   "execution_count": 166,
   "metadata": {},
   "outputs": [],
   "source": [
    "from skmultilearn.adapt import MLkNN\n",
    "classifier_k = MLkNN(k=21)"
   ]
  },
  {
   "cell_type": "code",
   "execution_count": 167,
   "metadata": {},
   "outputs": [
    {
     "data": {
      "text/plain": [
       "MLkNN(ignore_first_neighbours=0, k=21, s=1.0)"
      ]
     },
     "execution_count": 167,
     "metadata": {},
     "output_type": "execute_result"
    }
   ],
   "source": [
    "classifier_k.fit(x_train_multilabel, y_train)"
   ]
  },
  {
   "cell_type": "code",
   "execution_count": 168,
   "metadata": {},
   "outputs": [],
   "source": [
    "predictions5 = classifier_k.predict(x_test_multilabel)"
   ]
  },
  {
   "cell_type": "code",
   "execution_count": 169,
   "metadata": {},
   "outputs": [
    {
     "name": "stdout",
     "output_type": "stream",
     "text": [
      "{'Time_taken': '0:00:16.396039', 'accuracy': 0.08650875386199794, 'micro_f1_scoore': 0.25004876145894284}\n"
     ]
    }
   ],
   "source": [
    "rep_di = dict()\n",
    "rep_di[\"Time_taken\"] = str(time_t)\n",
    "rep_di[\"accuracy\"] = metrics.accuracy_score(y_test,predictions5)\n",
    "rep_di[\"micro_f1_scoore\"] = metrics.f1_score(y_test, predictions5, average = 'micro')\n",
    "print(str(rep_di))"
   ]
  },
  {
   "cell_type": "code",
   "execution_count": 170,
   "metadata": {},
   "outputs": [],
   "source": [
    "save_report(\"MLkNN 21\",rep_di)"
   ]
  },
  {
   "cell_type": "code",
   "execution_count": null,
   "metadata": {},
   "outputs": [],
   "source": []
  },
  {
   "cell_type": "code",
   "execution_count": 62,
   "metadata": {},
   "outputs": [
    {
     "data": {
      "text/plain": [
       "scipy.sparse.csr.csr_matrix"
      ]
     },
     "execution_count": 62,
     "metadata": {},
     "output_type": "execute_result"
    }
   ],
   "source": [
    "type(y_test)"
   ]
  },
  {
   "cell_type": "code",
   "execution_count": 178,
   "metadata": {},
   "outputs": [],
   "source": [
    "actual = vectorizer_tag.inverse_transform(y_test)\n",
    "actual = [' '.join(i) for i in actual]\n",
    "actual = pd.Series(actual,name=\"Actual\")\n",
    "#actual"
   ]
  },
  {
   "cell_type": "code",
   "execution_count": 53,
   "metadata": {},
   "outputs": [],
   "source": [
    "preds = vectorizer_tag.inverse_transform(predictions)\n",
    "preds = [' '.join(i) for i in preds]\n",
    "preds = pd.Series(preds,name=\"Pred_by_ques\")\n",
    "#preds"
   ]
  },
  {
   "cell_type": "code",
   "execution_count": 190,
   "metadata": {},
   "outputs": [],
   "source": [
    "resul_df = pd.concat([actual,preds],axis=1)\n",
    "#resul_df.to_csv(\"01_resul_rep.csv\",index=None)"
   ]
  },
  {
   "cell_type": "code",
   "execution_count": 191,
   "metadata": {},
   "outputs": [],
   "source": [
    "#rr = pd.read_csv('01_resul_rep.csv')"
   ]
  },
  {
   "cell_type": "code",
   "execution_count": 158,
   "metadata": {},
   "outputs": [],
   "source": [
    "#rr.append?"
   ]
  },
  {
   "cell_type": "code",
   "execution_count": 213,
   "metadata": {},
   "outputs": [],
   "source": [
    "rr['pred_by_ques']=preds"
   ]
  },
  {
   "cell_type": "code",
   "execution_count": 215,
   "metadata": {},
   "outputs": [],
   "source": [
    "rr.to_csv(\"01_rep_mindf_03.csv\",index=None)"
   ]
  },
  {
   "cell_type": "code",
   "execution_count": 59,
   "metadata": {},
   "outputs": [],
   "source": [
    "r = pd.read_csv('01_rep_mindf_03.csv')"
   ]
  },
  {
   "cell_type": "code",
   "execution_count": 178,
   "metadata": {},
   "outputs": [],
   "source": [
    "#r"
   ]
  },
  {
   "cell_type": "markdown",
   "metadata": {},
   "source": [
    "## load and run"
   ]
  },
  {
   "cell_type": "code",
   "execution_count": 171,
   "metadata": {},
   "outputs": [
    {
     "name": "stdout",
     "output_type": "stream",
     "text": [
      "('From title accuracy :', 0.092809790922998472)\n",
      "('From title micro f1 scoore :', 0.37282442748091604)\n"
     ]
    }
   ],
   "source": [
    "title_x_test_multilabel = joblib.load('/data/title_xtest_multilabel.pkl')\n",
    "\n",
    "title_sgc = joblib.load('/data/title_sgdc.pkl')\n",
    "\n",
    "pred_title = title_sgc.predict(title_x_test_multilabel)\n",
    "\n",
    "print(\"From title accuracy :\",metrics.accuracy_score(y_test,pred_title))\n",
    "print(\"From title micro f1 scoore :\",metrics.f1_score(y_test, pred_title, average = 'micro'))"
   ]
  },
  {
   "cell_type": "code",
   "execution_count": 172,
   "metadata": {},
   "outputs": [
    {
     "name": "stdout",
     "output_type": "stream",
     "text": [
      "('From body accuracy :', 0.079551249362570117)\n",
      "('From body micro f1 scoore :', 0.31029435680598472)\n"
     ]
    }
   ],
   "source": [
    "body_x_test_multilabel = joblib.load('/data/body_xtest_multilabel.pkl')\n",
    "\n",
    "body_sgc = joblib.load('/data/body_sgdc.pkl')\n",
    "\n",
    "pred_body = body_sgc.predict(body_x_test_multilabel)\n",
    "\n",
    "print(\"From body accuracy :\",metrics.accuracy_score(y_test,pred_body))\n",
    "print(\"From body micro f1 scoore :\",metrics.f1_score(y_test, pred_body, average = 'micro'))"
   ]
  },
  {
   "cell_type": "code",
   "execution_count": 167,
   "metadata": {},
   "outputs": [],
   "source": [
    "p_or = pred_title.todense() | pred_body.todense()"
   ]
  },
  {
   "cell_type": "code",
   "execution_count": 173,
   "metadata": {},
   "outputs": [
    {
     "name": "stdout",
     "output_type": "stream",
     "text": [
      "('From OR accuracy :', 0.10912799592044875)\n",
      "('From OR micro f1 scoore :', 0.44913991602329678)\n"
     ]
    }
   ],
   "source": [
    "print(\"From OR accuracy :\",metrics.accuracy_score(y_test,p_or))\n",
    "print(\"From OR micro f1 scoore :\",metrics.f1_score(y_test, p_or, average = 'micro'))"
   ]
  },
  {
   "cell_type": "code",
   "execution_count": 176,
   "metadata": {},
   "outputs": [],
   "source": [
    "preds = vectorizer_tag.inverse_transform(p_or)\n",
    "preds = [' '.join(i) for i in preds]\n",
    "preds = pd.Series(preds,name=\"Pred_by_OR\")\n",
    "r['pred_by_OR'] = preds\n",
    "r.to_csv(\"01_rep_mindf_03.csv\",index=None)"
   ]
  },
  {
   "cell_type": "code",
   "execution_count": 177,
   "metadata": {},
   "outputs": [
    {
     "data": {
      "text/html": [
       "<div>\n",
       "<style scoped>\n",
       "    .dataframe tbody tr th:only-of-type {\n",
       "        vertical-align: middle;\n",
       "    }\n",
       "\n",
       "    .dataframe tbody tr th {\n",
       "        vertical-align: top;\n",
       "    }\n",
       "\n",
       "    .dataframe thead th {\n",
       "        text-align: right;\n",
       "    }\n",
       "</style>\n",
       "<table border=\"1\" class=\"dataframe\">\n",
       "  <thead>\n",
       "    <tr style=\"text-align: right;\">\n",
       "      <th></th>\n",
       "      <th>Actual</th>\n",
       "      <th>Pred_by_Title</th>\n",
       "      <th>pred_by_body</th>\n",
       "      <th>pred_by_ques</th>\n",
       "      <th>pred_by_OR</th>\n",
       "    </tr>\n",
       "  </thead>\n",
       "  <tbody>\n",
       "    <tr>\n",
       "      <th>0</th>\n",
       "      <td>response list web-services</td>\n",
       "      <td>web-services</td>\n",
       "      <td>web-services</td>\n",
       "      <td>web-services</td>\n",
       "      <td>web-services</td>\n",
       "    </tr>\n",
       "    <tr>\n",
       "      <th>1</th>\n",
       "      <td>json-encode ajax php</td>\n",
       "      <td>php</td>\n",
       "      <td>ajax php</td>\n",
       "      <td>ajax php</td>\n",
       "      <td>ajax php</td>\n",
       "    </tr>\n",
       "    <tr>\n",
       "      <th>2</th>\n",
       "      <td>upgrade windows-7</td>\n",
       "      <td>windows-7</td>\n",
       "      <td>windows windows-7</td>\n",
       "      <td>windows windows-7</td>\n",
       "      <td>windows windows-7</td>\n",
       "    </tr>\n",
       "    <tr>\n",
       "      <th>3</th>\n",
       "      <td>prime-numbers</td>\n",
       "      <td>NaN</td>\n",
       "      <td>NaN</td>\n",
       "      <td>NaN</td>\n",
       "      <td>NaN</td>\n",
       "    </tr>\n",
       "    <tr>\n",
       "      <th>4</th>\n",
       "      <td>django database python</td>\n",
       "      <td>django python</td>\n",
       "      <td>django</td>\n",
       "      <td>django</td>\n",
       "      <td>django python</td>\n",
       "    </tr>\n",
       "    <tr>\n",
       "      <th>5</th>\n",
       "      <td>newline c</td>\n",
       "      <td>NaN</td>\n",
       "      <td>NaN</td>\n",
       "      <td>NaN</td>\n",
       "      <td>NaN</td>\n",
       "    </tr>\n",
       "    <tr>\n",
       "      <th>6</th>\n",
       "      <td>navigation android</td>\n",
       "      <td>NaN</td>\n",
       "      <td>android</td>\n",
       "      <td>android</td>\n",
       "      <td>android</td>\n",
       "    </tr>\n",
       "    <tr>\n",
       "      <th>7</th>\n",
       "      <td>android web-services</td>\n",
       "      <td>NaN</td>\n",
       "      <td>android</td>\n",
       "      <td>android</td>\n",
       "      <td>android</td>\n",
       "    </tr>\n",
       "    <tr>\n",
       "      <th>8</th>\n",
       "      <td>conflict version-control merge git</td>\n",
       "      <td>git merge</td>\n",
       "      <td>git</td>\n",
       "      <td>git merge</td>\n",
       "      <td>git merge</td>\n",
       "    </tr>\n",
       "    <tr>\n",
       "      <th>9</th>\n",
       "      <td>cocos2d-iphone cocos2d objective-c iphone</td>\n",
       "      <td>cocos2d cocos2d-iphone ios iphone</td>\n",
       "      <td>NaN</td>\n",
       "      <td>NaN</td>\n",
       "      <td>cocos2d cocos2d-iphone ios iphone</td>\n",
       "    </tr>\n",
       "    <tr>\n",
       "      <th>10</th>\n",
       "      <td>closures compilation google text</td>\n",
       "      <td>css</td>\n",
       "      <td>css</td>\n",
       "      <td>css</td>\n",
       "      <td>css</td>\n",
       "    </tr>\n",
       "    <tr>\n",
       "      <th>11</th>\n",
       "      <td>visual-studio-2012 c++ windows</td>\n",
       "      <td>c++ windows</td>\n",
       "      <td>NaN</td>\n",
       "      <td>c++</td>\n",
       "      <td>c++ windows</td>\n",
       "    </tr>\n",
       "    <tr>\n",
       "      <th>12</th>\n",
       "      <td>jquery</td>\n",
       "      <td>NaN</td>\n",
       "      <td>jquery</td>\n",
       "      <td>NaN</td>\n",
       "      <td>jquery</td>\n",
       "    </tr>\n",
       "    <tr>\n",
       "      <th>13</th>\n",
       "      <td>utf-8 encoding date java</td>\n",
       "      <td>encoding</td>\n",
       "      <td>java</td>\n",
       "      <td>java</td>\n",
       "      <td>encoding java</td>\n",
       "    </tr>\n",
       "    <tr>\n",
       "      <th>14</th>\n",
       "      <td>cross-browser asp.net</td>\n",
       "      <td>NaN</td>\n",
       "      <td>NaN</td>\n",
       "      <td>NaN</td>\n",
       "      <td>NaN</td>\n",
       "    </tr>\n",
       "    <tr>\n",
       "      <th>15</th>\n",
       "      <td>asp.net web-services javascript</td>\n",
       "      <td>NaN</td>\n",
       "      <td>asp.net c# javascript</td>\n",
       "      <td>asp.net c# javascript</td>\n",
       "      <td>asp.net c# javascript web-services</td>\n",
       "    </tr>\n",
       "    <tr>\n",
       "      <th>16</th>\n",
       "      <td>jsf jquery</td>\n",
       "      <td>NaN</td>\n",
       "      <td>jquery</td>\n",
       "      <td>jquery</td>\n",
       "      <td>jquery</td>\n",
       "    </tr>\n",
       "    <tr>\n",
       "      <th>17</th>\n",
       "      <td>mod-wsgi django apache2 python</td>\n",
       "      <td>apache apache2</td>\n",
       "      <td>django python</td>\n",
       "      <td>django python</td>\n",
       "      <td>apache django python</td>\n",
       "    </tr>\n",
       "    <tr>\n",
       "      <th>18</th>\n",
       "      <td>android-intent android</td>\n",
       "      <td>NaN</td>\n",
       "      <td>android</td>\n",
       "      <td>android</td>\n",
       "      <td>android</td>\n",
       "    </tr>\n",
       "    <tr>\n",
       "      <th>19</th>\n",
       "      <td>binary file c++</td>\n",
       "      <td>NaN</td>\n",
       "      <td>c++</td>\n",
       "      <td>c++</td>\n",
       "      <td>c++</td>\n",
       "    </tr>\n",
       "    <tr>\n",
       "      <th>20</th>\n",
       "      <td>sharepoint-designer compression sharepoint</td>\n",
       "      <td>NaN</td>\n",
       "      <td>NaN</td>\n",
       "      <td>NaN</td>\n",
       "      <td>NaN</td>\n",
       "    </tr>\n",
       "    <tr>\n",
       "      <th>21</th>\n",
       "      <td>haml jquery</td>\n",
       "      <td>javascript jquery</td>\n",
       "      <td>NaN</td>\n",
       "      <td>jquery</td>\n",
       "      <td>jquery</td>\n",
       "    </tr>\n",
       "    <tr>\n",
       "      <th>22</th>\n",
       "      <td>ipad objective-c</td>\n",
       "      <td>NaN</td>\n",
       "      <td>google-maps map</td>\n",
       "      <td>google-maps</td>\n",
       "      <td>google-maps map</td>\n",
       "    </tr>\n",
       "    <tr>\n",
       "      <th>23</th>\n",
       "      <td>adobe-cs5</td>\n",
       "      <td>pdf</td>\n",
       "      <td>NaN</td>\n",
       "      <td>NaN</td>\n",
       "      <td>pdf</td>\n",
       "    </tr>\n",
       "    <tr>\n",
       "      <th>24</th>\n",
       "      <td>mvvm castle-windsor wpf c#</td>\n",
       "      <td>c#</td>\n",
       "      <td>NaN</td>\n",
       "      <td>NaN</td>\n",
       "      <td>c#</td>\n",
       "    </tr>\n",
       "    <tr>\n",
       "      <th>25</th>\n",
       "      <td>wcf</td>\n",
       "      <td>wcf</td>\n",
       "      <td>NaN</td>\n",
       "      <td>wcf</td>\n",
       "      <td>wcf</td>\n",
       "    </tr>\n",
       "    <tr>\n",
       "      <th>26</th>\n",
       "      <td>c#</td>\n",
       "      <td>NaN</td>\n",
       "      <td>c#</td>\n",
       "      <td>c#</td>\n",
       "      <td>c#</td>\n",
       "    </tr>\n",
       "    <tr>\n",
       "      <th>27</th>\n",
       "      <td>blackberry</td>\n",
       "      <td>blackberry</td>\n",
       "      <td>NaN</td>\n",
       "      <td>NaN</td>\n",
       "      <td>blackberry</td>\n",
       "    </tr>\n",
       "    <tr>\n",
       "      <th>28</th>\n",
       "      <td>android</td>\n",
       "      <td>NaN</td>\n",
       "      <td>NaN</td>\n",
       "      <td>NaN</td>\n",
       "      <td>NaN</td>\n",
       "    </tr>\n",
       "    <tr>\n",
       "      <th>29</th>\n",
       "      <td>sql-server-2008</td>\n",
       "      <td>linux sql-server</td>\n",
       "      <td>sockets</td>\n",
       "      <td>sockets</td>\n",
       "      <td>linux sockets sql-server</td>\n",
       "    </tr>\n",
       "    <tr>\n",
       "      <th>...</th>\n",
       "      <td>...</td>\n",
       "      <td>...</td>\n",
       "      <td>...</td>\n",
       "      <td>...</td>\n",
       "      <td>...</td>\n",
       "    </tr>\n",
       "    <tr>\n",
       "      <th>1931</th>\n",
       "      <td>mediaelement.js</td>\n",
       "      <td>audio firefox flash</td>\n",
       "      <td>firefox</td>\n",
       "      <td>firefox</td>\n",
       "      <td>audio firefox flash</td>\n",
       "    </tr>\n",
       "    <tr>\n",
       "      <th>1932</th>\n",
       "      <td>cursor jpa-2.0 tsql java-ee stored-procedures</td>\n",
       "      <td>sql-server stored-procedures</td>\n",
       "      <td>eclipse eclipselink java jpa</td>\n",
       "      <td>eclipse eclipselink java jpa</td>\n",
       "      <td>eclipse eclipselink java jpa sql-server stored...</td>\n",
       "    </tr>\n",
       "    <tr>\n",
       "      <th>1933</th>\n",
       "      <td>solr</td>\n",
       "      <td>solr</td>\n",
       "      <td>NaN</td>\n",
       "      <td>NaN</td>\n",
       "      <td>solr</td>\n",
       "    </tr>\n",
       "    <tr>\n",
       "      <th>1934</th>\n",
       "      <td>forms ruby-on-rails-3 ruby-on-rails</td>\n",
       "      <td>forms ruby-on-rails ruby-on-rails-3</td>\n",
       "      <td>activerecord ruby-on-rails</td>\n",
       "      <td>activerecord ruby-on-rails</td>\n",
       "      <td>activerecord forms ruby-on-rails</td>\n",
       "    </tr>\n",
       "    <tr>\n",
       "      <th>1935</th>\n",
       "      <td>css3 webkit javascript ios</td>\n",
       "      <td>css3</td>\n",
       "      <td>NaN</td>\n",
       "      <td>ios</td>\n",
       "      <td>css3</td>\n",
       "    </tr>\n",
       "    <tr>\n",
       "      <th>1936</th>\n",
       "      <td>url ssl</td>\n",
       "      <td>ssl</td>\n",
       "      <td>asp.net</td>\n",
       "      <td>NaN</td>\n",
       "      <td>ssl</td>\n",
       "    </tr>\n",
       "    <tr>\n",
       "      <th>1937</th>\n",
       "      <td>ruby regex</td>\n",
       "      <td>regex</td>\n",
       "      <td>regex string</td>\n",
       "      <td>regex string</td>\n",
       "      <td>regex</td>\n",
       "    </tr>\n",
       "    <tr>\n",
       "      <th>1938</th>\n",
       "      <td>download wget</td>\n",
       "      <td>download</td>\n",
       "      <td>proxy</td>\n",
       "      <td>proxy</td>\n",
       "      <td>download</td>\n",
       "    </tr>\n",
       "    <tr>\n",
       "      <th>1939</th>\n",
       "      <td>iframe html javascript</td>\n",
       "      <td>NaN</td>\n",
       "      <td>NaN</td>\n",
       "      <td>NaN</td>\n",
       "      <td>NaN</td>\n",
       "    </tr>\n",
       "    <tr>\n",
       "      <th>1940</th>\n",
       "      <td>live-streaming ffmpeg</td>\n",
       "      <td>android</td>\n",
       "      <td>android ffmpeg</td>\n",
       "      <td>android ffmpeg</td>\n",
       "      <td>android ffmpeg</td>\n",
       "    </tr>\n",
       "    <tr>\n",
       "      <th>1941</th>\n",
       "      <td>colors message text java</td>\n",
       "      <td>NaN</td>\n",
       "      <td>NaN</td>\n",
       "      <td>NaN</td>\n",
       "      <td>NaN</td>\n",
       "    </tr>\n",
       "    <tr>\n",
       "      <th>1942</th>\n",
       "      <td>knockout.js html javascript</td>\n",
       "      <td>html jquery</td>\n",
       "      <td>html jquery</td>\n",
       "      <td>html jquery</td>\n",
       "      <td>html jquery</td>\n",
       "    </tr>\n",
       "    <tr>\n",
       "      <th>1943</th>\n",
       "      <td>uiwebview ios objective-c</td>\n",
       "      <td>ios iphone objective-c</td>\n",
       "      <td>android ios webview</td>\n",
       "      <td>android ios webview</td>\n",
       "      <td>android ios iphone objective-c webview</td>\n",
       "    </tr>\n",
       "    <tr>\n",
       "      <th>1944</th>\n",
       "      <td>sorting ruby</td>\n",
       "      <td>ruby</td>\n",
       "      <td>NaN</td>\n",
       "      <td>ruby</td>\n",
       "      <td>ruby</td>\n",
       "    </tr>\n",
       "    <tr>\n",
       "      <th>1945</th>\n",
       "      <td>ruby-on-rails jquery</td>\n",
       "      <td>javascript jquery ruby-on-rails</td>\n",
       "      <td>jquery</td>\n",
       "      <td>jquery</td>\n",
       "      <td>javascript jquery ruby-on-rails</td>\n",
       "    </tr>\n",
       "    <tr>\n",
       "      <th>1946</th>\n",
       "      <td>vb.net asp.net</td>\n",
       "      <td>asp.net</td>\n",
       "      <td>NaN</td>\n",
       "      <td>NaN</td>\n",
       "      <td>asp.net</td>\n",
       "    </tr>\n",
       "    <tr>\n",
       "      <th>1947</th>\n",
       "      <td>maven jboss7.x</td>\n",
       "      <td>java</td>\n",
       "      <td>NaN</td>\n",
       "      <td>java</td>\n",
       "      <td>java jboss</td>\n",
       "    </tr>\n",
       "    <tr>\n",
       "      <th>1948</th>\n",
       "      <td>oop winforms c#</td>\n",
       "      <td>c# datagridview winforms</td>\n",
       "      <td>c# winforms</td>\n",
       "      <td>c# winforms</td>\n",
       "      <td>c# datagridview winforms</td>\n",
       "    </tr>\n",
       "    <tr>\n",
       "      <th>1949</th>\n",
       "      <td>android-listview android-button android</td>\n",
       "      <td>android</td>\n",
       "      <td>android xml</td>\n",
       "      <td>android xml</td>\n",
       "      <td>android xml</td>\n",
       "    </tr>\n",
       "    <tr>\n",
       "      <th>1950</th>\n",
       "      <td>coffeescript inline iteration</td>\n",
       "      <td>NaN</td>\n",
       "      <td>NaN</td>\n",
       "      <td>NaN</td>\n",
       "      <td>arrays</td>\n",
       "    </tr>\n",
       "    <tr>\n",
       "      <th>1951</th>\n",
       "      <td>java</td>\n",
       "      <td>NaN</td>\n",
       "      <td>java</td>\n",
       "      <td>java</td>\n",
       "      <td>java</td>\n",
       "    </tr>\n",
       "    <tr>\n",
       "      <th>1952</th>\n",
       "      <td>solr hosting search apache</td>\n",
       "      <td>apache apache2 solr</td>\n",
       "      <td>solr</td>\n",
       "      <td>solr</td>\n",
       "      <td>apache apache2 solr</td>\n",
       "    </tr>\n",
       "    <tr>\n",
       "      <th>1953</th>\n",
       "      <td>web service iphone</td>\n",
       "      <td>iphone web-services</td>\n",
       "      <td>NaN</td>\n",
       "      <td>iphone</td>\n",
       "      <td>iphone web-services</td>\n",
       "    </tr>\n",
       "    <tr>\n",
       "      <th>1954</th>\n",
       "      <td>charts flash javascript</td>\n",
       "      <td>javascript xml</td>\n",
       "      <td>javascript</td>\n",
       "      <td>javascript xml</td>\n",
       "      <td>javascript xml</td>\n",
       "    </tr>\n",
       "    <tr>\n",
       "      <th>1955</th>\n",
       "      <td>xml c++</td>\n",
       "      <td>xml</td>\n",
       "      <td>NaN</td>\n",
       "      <td>xml</td>\n",
       "      <td>xml</td>\n",
       "    </tr>\n",
       "    <tr>\n",
       "      <th>1956</th>\n",
       "      <td>xml php</td>\n",
       "      <td>java php</td>\n",
       "      <td>java xml</td>\n",
       "      <td>java xml</td>\n",
       "      <td>java php xml</td>\n",
       "    </tr>\n",
       "    <tr>\n",
       "      <th>1957</th>\n",
       "      <td>oracle</td>\n",
       "      <td>oracle</td>\n",
       "      <td>NaN</td>\n",
       "      <td>NaN</td>\n",
       "      <td>oracle</td>\n",
       "    </tr>\n",
       "    <tr>\n",
       "      <th>1958</th>\n",
       "      <td>plot vba excel</td>\n",
       "      <td>NaN</td>\n",
       "      <td>excel</td>\n",
       "      <td>excel</td>\n",
       "      <td>excel</td>\n",
       "    </tr>\n",
       "    <tr>\n",
       "      <th>1959</th>\n",
       "      <td>excel xml</td>\n",
       "      <td>excel xml</td>\n",
       "      <td>xml</td>\n",
       "      <td>xml</td>\n",
       "      <td>excel xml</td>\n",
       "    </tr>\n",
       "    <tr>\n",
       "      <th>1960</th>\n",
       "      <td>python-3.x random regex python</td>\n",
       "      <td>regex</td>\n",
       "      <td>python</td>\n",
       "      <td>python</td>\n",
       "      <td>python regex</td>\n",
       "    </tr>\n",
       "  </tbody>\n",
       "</table>\n",
       "<p>1961 rows × 5 columns</p>\n",
       "</div>"
      ],
      "text/plain": [
       "                                             Actual  \\\n",
       "0                        response list web-services   \n",
       "1                              json-encode ajax php   \n",
       "2                                 upgrade windows-7   \n",
       "3                                     prime-numbers   \n",
       "4                            django database python   \n",
       "5                                         newline c   \n",
       "6                                navigation android   \n",
       "7                              android web-services   \n",
       "8                conflict version-control merge git   \n",
       "9         cocos2d-iphone cocos2d objective-c iphone   \n",
       "10                 closures compilation google text   \n",
       "11                   visual-studio-2012 c++ windows   \n",
       "12                                           jquery   \n",
       "13                         utf-8 encoding date java   \n",
       "14                            cross-browser asp.net   \n",
       "15                  asp.net web-services javascript   \n",
       "16                                       jsf jquery   \n",
       "17                   mod-wsgi django apache2 python   \n",
       "18                           android-intent android   \n",
       "19                                  binary file c++   \n",
       "20       sharepoint-designer compression sharepoint   \n",
       "21                                      haml jquery   \n",
       "22                                 ipad objective-c   \n",
       "23                                        adobe-cs5   \n",
       "24                       mvvm castle-windsor wpf c#   \n",
       "25                                              wcf   \n",
       "26                                               c#   \n",
       "27                                       blackberry   \n",
       "28                                          android   \n",
       "29                                  sql-server-2008   \n",
       "...                                             ...   \n",
       "1931                                mediaelement.js   \n",
       "1932  cursor jpa-2.0 tsql java-ee stored-procedures   \n",
       "1933                                           solr   \n",
       "1934            forms ruby-on-rails-3 ruby-on-rails   \n",
       "1935                     css3 webkit javascript ios   \n",
       "1936                                        url ssl   \n",
       "1937                                     ruby regex   \n",
       "1938                                  download wget   \n",
       "1939                         iframe html javascript   \n",
       "1940                          live-streaming ffmpeg   \n",
       "1941                       colors message text java   \n",
       "1942                    knockout.js html javascript   \n",
       "1943                      uiwebview ios objective-c   \n",
       "1944                                   sorting ruby   \n",
       "1945                           ruby-on-rails jquery   \n",
       "1946                                 vb.net asp.net   \n",
       "1947                                 maven jboss7.x   \n",
       "1948                                oop winforms c#   \n",
       "1949        android-listview android-button android   \n",
       "1950                  coffeescript inline iteration   \n",
       "1951                                           java   \n",
       "1952                     solr hosting search apache   \n",
       "1953                             web service iphone   \n",
       "1954                        charts flash javascript   \n",
       "1955                                        xml c++   \n",
       "1956                                        xml php   \n",
       "1957                                         oracle   \n",
       "1958                                 plot vba excel   \n",
       "1959                                      excel xml   \n",
       "1960                 python-3.x random regex python   \n",
       "\n",
       "                            Pred_by_Title                  pred_by_body  \\\n",
       "0                            web-services                  web-services   \n",
       "1                                     php                      ajax php   \n",
       "2                               windows-7             windows windows-7   \n",
       "3                                     NaN                           NaN   \n",
       "4                           django python                        django   \n",
       "5                                     NaN                           NaN   \n",
       "6                                     NaN                       android   \n",
       "7                                     NaN                       android   \n",
       "8                               git merge                           git   \n",
       "9       cocos2d cocos2d-iphone ios iphone                           NaN   \n",
       "10                                    css                           css   \n",
       "11                            c++ windows                           NaN   \n",
       "12                                    NaN                        jquery   \n",
       "13                               encoding                          java   \n",
       "14                                    NaN                           NaN   \n",
       "15                                    NaN         asp.net c# javascript   \n",
       "16                                    NaN                        jquery   \n",
       "17                         apache apache2                 django python   \n",
       "18                                    NaN                       android   \n",
       "19                                    NaN                           c++   \n",
       "20                                    NaN                           NaN   \n",
       "21                      javascript jquery                           NaN   \n",
       "22                                    NaN               google-maps map   \n",
       "23                                    pdf                           NaN   \n",
       "24                                     c#                           NaN   \n",
       "25                                    wcf                           NaN   \n",
       "26                                    NaN                            c#   \n",
       "27                             blackberry                           NaN   \n",
       "28                                    NaN                           NaN   \n",
       "29                       linux sql-server                       sockets   \n",
       "...                                   ...                           ...   \n",
       "1931                  audio firefox flash                       firefox   \n",
       "1932         sql-server stored-procedures  eclipse eclipselink java jpa   \n",
       "1933                                 solr                           NaN   \n",
       "1934  forms ruby-on-rails ruby-on-rails-3    activerecord ruby-on-rails   \n",
       "1935                                 css3                           NaN   \n",
       "1936                                  ssl                       asp.net   \n",
       "1937                                regex                  regex string   \n",
       "1938                             download                         proxy   \n",
       "1939                                  NaN                           NaN   \n",
       "1940                              android                android ffmpeg   \n",
       "1941                                  NaN                           NaN   \n",
       "1942                          html jquery                   html jquery   \n",
       "1943               ios iphone objective-c           android ios webview   \n",
       "1944                                 ruby                           NaN   \n",
       "1945      javascript jquery ruby-on-rails                        jquery   \n",
       "1946                              asp.net                           NaN   \n",
       "1947                                 java                           NaN   \n",
       "1948             c# datagridview winforms                   c# winforms   \n",
       "1949                              android                   android xml   \n",
       "1950                                  NaN                           NaN   \n",
       "1951                                  NaN                          java   \n",
       "1952                  apache apache2 solr                          solr   \n",
       "1953                  iphone web-services                           NaN   \n",
       "1954                       javascript xml                    javascript   \n",
       "1955                                  xml                           NaN   \n",
       "1956                             java php                      java xml   \n",
       "1957                               oracle                           NaN   \n",
       "1958                                  NaN                         excel   \n",
       "1959                            excel xml                           xml   \n",
       "1960                                regex                        python   \n",
       "\n",
       "                      pred_by_ques  \\\n",
       "0                     web-services   \n",
       "1                         ajax php   \n",
       "2                windows windows-7   \n",
       "3                              NaN   \n",
       "4                           django   \n",
       "5                              NaN   \n",
       "6                          android   \n",
       "7                          android   \n",
       "8                        git merge   \n",
       "9                              NaN   \n",
       "10                             css   \n",
       "11                             c++   \n",
       "12                             NaN   \n",
       "13                            java   \n",
       "14                             NaN   \n",
       "15           asp.net c# javascript   \n",
       "16                          jquery   \n",
       "17                   django python   \n",
       "18                         android   \n",
       "19                             c++   \n",
       "20                             NaN   \n",
       "21                          jquery   \n",
       "22                     google-maps   \n",
       "23                             NaN   \n",
       "24                             NaN   \n",
       "25                             wcf   \n",
       "26                              c#   \n",
       "27                             NaN   \n",
       "28                             NaN   \n",
       "29                         sockets   \n",
       "...                            ...   \n",
       "1931                       firefox   \n",
       "1932  eclipse eclipselink java jpa   \n",
       "1933                           NaN   \n",
       "1934    activerecord ruby-on-rails   \n",
       "1935                           ios   \n",
       "1936                           NaN   \n",
       "1937                  regex string   \n",
       "1938                         proxy   \n",
       "1939                           NaN   \n",
       "1940                android ffmpeg   \n",
       "1941                           NaN   \n",
       "1942                   html jquery   \n",
       "1943           android ios webview   \n",
       "1944                          ruby   \n",
       "1945                        jquery   \n",
       "1946                           NaN   \n",
       "1947                          java   \n",
       "1948                   c# winforms   \n",
       "1949                   android xml   \n",
       "1950                           NaN   \n",
       "1951                          java   \n",
       "1952                          solr   \n",
       "1953                        iphone   \n",
       "1954                javascript xml   \n",
       "1955                           xml   \n",
       "1956                      java xml   \n",
       "1957                           NaN   \n",
       "1958                         excel   \n",
       "1959                           xml   \n",
       "1960                        python   \n",
       "\n",
       "                                             pred_by_OR  \n",
       "0                                          web-services  \n",
       "1                                              ajax php  \n",
       "2                                     windows windows-7  \n",
       "3                                                   NaN  \n",
       "4                                         django python  \n",
       "5                                                   NaN  \n",
       "6                                               android  \n",
       "7                                               android  \n",
       "8                                             git merge  \n",
       "9                     cocos2d cocos2d-iphone ios iphone  \n",
       "10                                                  css  \n",
       "11                                          c++ windows  \n",
       "12                                               jquery  \n",
       "13                                        encoding java  \n",
       "14                                                  NaN  \n",
       "15                   asp.net c# javascript web-services  \n",
       "16                                               jquery  \n",
       "17                                 apache django python  \n",
       "18                                              android  \n",
       "19                                                  c++  \n",
       "20                                                  NaN  \n",
       "21                                               jquery  \n",
       "22                                      google-maps map  \n",
       "23                                                  pdf  \n",
       "24                                                   c#  \n",
       "25                                                  wcf  \n",
       "26                                                   c#  \n",
       "27                                           blackberry  \n",
       "28                                                  NaN  \n",
       "29                             linux sockets sql-server  \n",
       "...                                                 ...  \n",
       "1931                                audio firefox flash  \n",
       "1932  eclipse eclipselink java jpa sql-server stored...  \n",
       "1933                                               solr  \n",
       "1934                   activerecord forms ruby-on-rails  \n",
       "1935                                               css3  \n",
       "1936                                                ssl  \n",
       "1937                                              regex  \n",
       "1938                                           download  \n",
       "1939                                                NaN  \n",
       "1940                                     android ffmpeg  \n",
       "1941                                                NaN  \n",
       "1942                                        html jquery  \n",
       "1943             android ios iphone objective-c webview  \n",
       "1944                                               ruby  \n",
       "1945                    javascript jquery ruby-on-rails  \n",
       "1946                                            asp.net  \n",
       "1947                                         java jboss  \n",
       "1948                           c# datagridview winforms  \n",
       "1949                                        android xml  \n",
       "1950                                             arrays  \n",
       "1951                                               java  \n",
       "1952                                apache apache2 solr  \n",
       "1953                                iphone web-services  \n",
       "1954                                     javascript xml  \n",
       "1955                                                xml  \n",
       "1956                                       java php xml  \n",
       "1957                                             oracle  \n",
       "1958                                              excel  \n",
       "1959                                          excel xml  \n",
       "1960                                       python regex  \n",
       "\n",
       "[1961 rows x 5 columns]"
      ]
     },
     "execution_count": 177,
     "metadata": {},
     "output_type": "execute_result"
    }
   ],
   "source": [
    "r = pd.read_csv('01_rep_mindf_03.csv')\n",
    "r"
   ]
  },
  {
   "cell_type": "code",
   "execution_count": null,
   "metadata": {},
   "outputs": [],
   "source": []
  }
 ],
 "metadata": {
  "kernelspec": {
   "display_name": "Python 3",
   "language": "python",
   "name": "python3"
  },
  "language_info": {
   "codemirror_mode": {
    "name": "ipython",
    "version": 3
   },
   "file_extension": ".py",
   "mimetype": "text/x-python",
   "name": "python",
   "nbconvert_exporter": "python",
   "pygments_lexer": "ipython3",
   "version": "3.6.6"
  }
 },
 "nbformat": 4,
 "nbformat_minor": 2
}
